{
 "cells": [
  {
   "cell_type": "code",
   "execution_count": 1,
   "metadata": {},
   "outputs": [],
   "source": [
    "import csv\n",
    "from pathlib import Path\n",
    "import time"
   ]
  },
  {
   "cell_type": "code",
   "execution_count": 2,
   "metadata": {},
   "outputs": [],
   "source": [
    "def fa_csvFile(file):\n",
    "    \"\"\"\n",
    "    Financial Analysis : CSV to List\n",
    "    \n",
    "    This function takes in a csv file and converts it into a list \n",
    "    \"\"\"\n",
    "    #\n",
    "    pl_list = []\n",
    "    \n",
    "    #convert csv file to csv_reader object\n",
    "    with open(file) as csv_File:\n",
    "        csv_Read = csv.reader(csv_File, delimiter=',')\n",
    "        \n",
    "        #first row in csv file\n",
    "        header = next(csv_Read)\n",
    "        \n",
    "        #loop through csv_reader and append values to list\n",
    "        for row in csv_Read:\n",
    "            pl_list.append([row[0], int(row[1])])\n",
    "        \n",
    "        return pl_list\n",
    "            \n",
    "            \n",
    "        "
   ]
  },
  {
   "cell_type": "code",
   "execution_count": 3,
   "metadata": {},
   "outputs": [],
   "source": [
    "def fa_total_months(csv_reader):\n",
    "    \"\"\"\n",
    "    Financial Analysis: Total Months\n",
    "    \n",
    "    This function loops through the list and confirms \n",
    "    and count all the months in the \n",
    "    \"\"\"\n",
    "    \n",
    "    #list of months\n",
    "    month_List = ['Jan','Feb','Mar','Apr','May','Jun','Jul','Aug','Sep','Oct','Nov','Dec']\n",
    "    \n",
    "    count = 0\n",
    "    \n",
    "    final_total_months = ''\n",
    "    \n",
    "    for r in csv_reader:\n",
    "            mon = r[0]\n",
    "            if mon[:3] in month_List:\n",
    "                count += 1\n",
    "            else:\n",
    "                count = count\n",
    "                \n",
    "    #final_total_months = f'Total Months: {count}'  \n",
    "    final_total_months = count\n",
    "    return final_total_months"
   ]
  },
  {
   "cell_type": "code",
   "execution_count": 4,
   "metadata": {},
   "outputs": [],
   "source": [
    "def fa_total(csv_reader):\n",
    "    \"\"\"\n",
    "    Financial Analysis: Total Months\n",
    "    \n",
    "    This function loops through the list and confirms \n",
    "    and count all the months in the \n",
    "    \"\"\"\n",
    "    addPL = []\n",
    "    \n",
    "    for row in csv_reader:\n",
    "            addPL.append(int(row[1]))\n",
    "            \n",
    "    \n",
    "    final_total = sum(addPL)\n",
    "    return final_total"
   ]
  },
  {
   "cell_type": "code",
   "execution_count": 5,
   "metadata": {},
   "outputs": [],
   "source": [
    "def fa_pnl_change_stat(csv_reader):\n",
    "    \"\"\"\n",
    "    Financial Analysis: Total Months\n",
    "    \n",
    "    This function loops through the list and confirms \n",
    "    and count all the months in the \n",
    "    \"\"\"\n",
    "    profit_change = 0\n",
    "    avg_pl_change = 0\n",
    "    \n",
    "    final_average_change = ''\n",
    "    final_great_increase = ''\n",
    "    final_great_decrease = ''\n",
    "    \n",
    "    \n",
    "    month_profits = []\n",
    "    pl_changes = []\n",
    "    dates = []\n",
    "    \n",
    "    \n",
    "    #read the first row with pl\n",
    "    i_list = iter(csv_reader)\n",
    "    first_val = next(i_list)\n",
    "    placeholder = int(first_val[1])\n",
    "    \n",
    "    #\n",
    "    for r in i_list:\n",
    "        \n",
    "        dates.append(r[0])\n",
    "        profit_change = int(r[1]) - placeholder\n",
    "        pl_changes.append(profit_change)\n",
    "        placeholder = int(r[1])\n",
    "        \n",
    "        \n",
    "    avg_pl_change = format((sum(pl_changes)/len(pl_changes)), '.2f')\n",
    "        \n",
    "        \n",
    "    pl_min = f'{dates[pl_changes.index(min(pl_changes))]} (${str(min(pl_changes))})'\n",
    "    pl_max = f'{dates[pl_changes.index(max(pl_changes))]} (${str(max(pl_changes))})'\n",
    "    \n",
    "        \n",
    "    return avg_pl_change, pl_min, pl_max"
   ]
  },
  {
   "cell_type": "code",
   "execution_count": 6,
   "metadata": {},
   "outputs": [],
   "source": [
    "def financial_analysis(csv_file, txt_output_file):\n",
    "    \"\"\"\n",
    "    Financial Analysis: Total Months\n",
    "    \n",
    "    This function loops through the list and confirms \n",
    "    and count all the months in the \n",
    "    \"\"\"\n",
    "    pl_list = fa_csvFile(csv_file)\n",
    "    final_total_months = f'Total Months: {fa_total_months(pl_list)}'\n",
    "    final_total_pl = f'Total: ${fa_total(pl_list)}'\n",
    "    final_change_avg, final_min, final_max = fa_pnl_change_stat(pl_list)\n",
    "    \n",
    "    print('Financial Analysis')\n",
    "    print('----------------------------')\n",
    "    print(final_total_months)\n",
    "    print(final_total_pl)\n",
    "    print(f'Average  Change: ${final_change_avg}')\n",
    "    print(f'Greatest Increase in Profits: {final_max}')\n",
    "    print(f'Greatest Decrease in Profits: {final_min}')\n",
    "    \n",
    "    timestamp = time.strftime(\"%Y%m%d-%H%M%S\")\n",
    "    fa_results_path = f'Finalfile/{txt_output_file}_{timestamp}.txt'\n",
    "    \n",
    "    with open(fa_results_path, 'w')as file:\n",
    "        \n",
    "        file.write('Financial Analysis\\n')\n",
    "        file.write('----------------------------\\n')\n",
    "        file.write(f'{final_total_months}\\n')\n",
    "        file.write(f'{final_total_pl}\\n')\n",
    "        file.write(f'Average  Change: ${final_change_avg}\\n')\n",
    "        file.write(f'Greatest Increase in Profits: {final_max}\\n')\n",
    "        file.write(f'Greatest Decrease in Profits: {final_min}\\n')"
   ]
  },
  {
   "cell_type": "code",
   "execution_count": 7,
   "metadata": {},
   "outputs": [
    {
     "name": "stdout",
     "output_type": "stream",
     "text": [
      "Financial Analysis\n",
      "----------------------------\n",
      "Total Months: 86\n",
      "Total: $38382578\n",
      "Average  Change: $-2315.12\n",
      "Greatest Increase in Profits: Feb-2012 ($1926159)\n",
      "Greatest Decrease in Profits: Sep-2013 ($-2196167)\n"
     ]
    }
   ],
   "source": [
    "csvpath = Path(\"Resources/budget_data.csv\")\n",
    "output = 'financial_analysis'\n",
    "financial_analysis(csvpath,output)"
   ]
  }
 ],
 "metadata": {
  "kernelspec": {
   "display_name": "Python 3",
   "language": "python",
   "name": "python3"
  },
  "language_info": {
   "codemirror_mode": {
    "name": "ipython",
    "version": 3
   },
   "file_extension": ".py",
   "mimetype": "text/x-python",
   "name": "python",
   "nbconvert_exporter": "python",
   "pygments_lexer": "ipython3",
   "version": "3.7.9"
  }
 },
 "nbformat": 4,
 "nbformat_minor": 4
}
