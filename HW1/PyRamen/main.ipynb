{
 "cells": [
  {
   "cell_type": "code",
   "execution_count": 4,
   "metadata": {},
   "outputs": [],
   "source": [
    "\"\"\"PyRamen Homework Starter.\"\"\"\n",
    "# @TODO: Import libraries\n",
    "import csv\n",
    "from pathlib import Path"
   ]
  },
  {
   "cell_type": "code",
   "execution_count": 5,
   "metadata": {},
   "outputs": [],
   "source": [
    "# @TODO: Set file paths for menu_data.csv and sales_data.csv\n",
    "menu_filepath = Path('Resources/menu_data.csv')\n",
    "sales_filepath = Path('Resources/sales_data.csv')\n",
    "\n",
    "# @TODO: Initialize list objects to hold our menu and sales data\n",
    "menu = []\n",
    "sales = []"
   ]
  },
  {
   "cell_type": "code",
   "execution_count": 6,
   "metadata": {},
   "outputs": [],
   "source": [
    "# @TODO: Read in the menu data into the menu list\n",
    "with open(menu_filepath) as csv_menu:\n",
    "    menu_read = csv.reader(csv_menu, delimiter=',')\n",
    "    #first row in csv file\n",
    "    header = next(menu_read)\n",
    "    \n",
    "    #loop through csv_reader and append values to list\n",
    "    for row in menu_read:\n",
    "        menu.append([row[0], row[1], row[2], row[3], row[4]])"
   ]
  },
  {
   "cell_type": "code",
   "execution_count": 7,
   "metadata": {},
   "outputs": [],
   "source": [
    "# @TODO: Read in the sales data into the sales list\n",
    "with open(sales_filepath) as csv_sales:\n",
    "    sales_read = csv.reader(csv_sales, delimiter=',')\n",
    "    #first row in csv file\n",
    "    header = next(sales_read)\n",
    "    \n",
    "    #loop through csv_reader and append values to list\n",
    "    for row in sales_read:\n",
    "        sales.append([row[0], row[1], row[2], row[3], row[4]]) "
   ]
  },
  {
   "cell_type": "code",
   "execution_count": 8,
   "metadata": {},
   "outputs": [],
   "source": [
    "# @TODO: Initialize dict object to hold our key-value pairs of items and metrics\n",
    "report = {}"
   ]
  },
  {
   "cell_type": "code",
   "execution_count": 9,
   "metadata": {},
   "outputs": [
    {
     "name": "stdout",
     "output_type": "stream",
     "text": [
      "num of rec 74124\n",
      "spicy miso ramen : {'01-count': 9238, '02-revenue': 110856.0, '03-cogs': 46190.0, '04-profit': 64666.0}\n",
      "tori paitan ramen : {'01-count': 9156, '02-revenue': 119028.0, '03-cogs': 54936.0, '04-profit': 64092.0}\n",
      "truffle butter ramen : {'01-count': 8982, '02-revenue': 125748.0, '03-cogs': 62874.0, '04-profit': 62874.0}\n",
      "tonkotsu ramen : {'01-count': 9288, '02-revenue': 120744.0, '03-cogs': 55728.0, '04-profit': 65016.0}\n",
      "vegetarian spicy miso : {'01-count': 9216, '02-revenue': 110592.0, '03-cogs': 46080.0, '04-profit': 64512.0}\n",
      "shio ramen : {'01-count': 9180, '02-revenue': 100980.0, '03-cogs': 45900.0, '04-profit': 55080.0}\n",
      "miso crab ramen : {'01-count': 8890, '02-revenue': 106680.0, '03-cogs': 53340.0, '04-profit': 53340.0}\n",
      "nagomi shoyu : {'01-count': 9132, '02-revenue': 100452.0, '03-cogs': 45660.0, '04-profit': 54792.0}\n",
      "soft-shell miso crab ramen : {'01-count': 9130, '02-revenue': 127820.0, '03-cogs': 63910.0, '04-profit': 63910.0}\n",
      "burnt garlic tonkotsu ramen : {'01-count': 9070, '02-revenue': 126980.0, '03-cogs': 54420.0, '04-profit': 72560.0}\n",
      "vegetarian curry + king trumpet mushroom ramen : {'01-count': 8824, '02-revenue': 114712.0, '03-cogs': 61768.0, '04-profit': 52944.0}\n"
     ]
    }
   ],
   "source": [
    "# Initialize a row counter variable\n",
    "row_count = 0\n",
    "\n",
    "# @TODO: Loop over every row in the sales list object\n",
    "for sale in sales:\n",
    "    \n",
    "    quantity = int(sale[3])\n",
    "    sales_item = sale[4]\n",
    "    \n",
    "        \n",
    "    \n",
    "    # Line_Item_ID,Date,Credit_Card_Number,Quantity,Menu_Item\n",
    "    # @TODO: Initialize sales data variables\n",
    "    \n",
    "    #Line_Item_ID = sale[0]\n",
    "    #Date = sale[1]\n",
    "    #Credit_Card_Number = sale[2]\n",
    "    #Quantity = int(sale[3])\n",
    "    #Menu_Item = sale[4]\n",
    "    \n",
    "    # @TODO:\n",
    "    # If the item value not in the report, add it as a new entry with initialized metrics\n",
    "    # Naming convention allows the keys to be ordered in logical fashion, count, revenue, cost, profit\n",
    "    \n",
    "    if sales_item not in report.keys():\n",
    "        report[sales_item] = { \"01-count\": 0,\n",
    "                            \"02-revenue\": 0,\n",
    "                               \"03-cogs\": 0,\n",
    "                             \"04-profit\": 0 }\n",
    "\n",
    "\n",
    "    # @TODO: For every row in our sales data, loop over the menu records to determine a match\n",
    "    for dish in menu:\n",
    "        \n",
    "       \n",
    "        # Item,Category,Description,Price,Cost\n",
    "        # @TODO: Initialize menu data variables\n",
    "        \n",
    "        Item = dish[0]\n",
    "        Price =float(dish[3])\n",
    "        Cost = float(dish[4])\n",
    "       \n",
    "       \n",
    "        # @TODO: Calculate profit of each item in the menu data\n",
    "        \n",
    "        profit = Price - Cost\n",
    "            #print(profit)\n",
    "       \n",
    "        ## @TODO: If the item value in our sales data is equal to the any of the items in the menu\n",
    "        ##, then begin tracking metrics for that item\n",
    "        \n",
    "        if sales_item == Item:\n",
    "            \n",
    "            # @TODO: Print out matching menu data\n",
    "            #print(f\"Does {sales_item} equal {Item}? WE HAVE A MATCH!!!\")\n",
    "            #print(f'Item: {Item}')\n",
    "            #print(f'Price: {Price}')\n",
    "            #print(f'Cost: {Cost}')\n",
    "            #print(f'Profit: {profit}')\n",
    "            \n",
    "            # @TODO: Cumulatively add up the metrics for each item key\n",
    "            report[sales_item][\"01-count\"] += quantity\n",
    "            report[sales_item][\"02-revenue\"] += Price * quantity\n",
    "            report[sales_item][\"03-cogs\"] += Cost * quantity\n",
    "            report[sales_item][\"04-profit\"] += profit * quantity\n",
    "            \n",
    "        else:\n",
    "            with open(\"No_match_report.txt\", \"w\") as txt_file:\n",
    "                line = f'{sales_item} and {Item} does not equal! NO MATCH'\n",
    "                txt_file.write(line)\n",
    "               \n",
    "\n",
    "\n",
    "    # @TODO: Increment the row counter by 1\n",
    "    row_count += 1\n",
    "\n",
    "# @TODO: Print total number of records in sales data\n",
    "print(\"num of rec\", row_count)\n",
    "for sales_item in report:\n",
    "    print(f'{sales_item} : {report[sales_item]}')\n",
    "\n",
    "\n",
    "\n",
    "\n",
    "# @TODO: Write out report to a text file (won't appear on the command line output)\n",
    "with open(\"report.txt\", \"w\") as txt_file:\n",
    "    for sales_item in report:\n",
    "        line = f'{sales_item} : {report[sales_item]}'\n",
    "        txt_file.write(line)"
   ]
  },
  {
   "cell_type": "code",
   "execution_count": null,
   "metadata": {},
   "outputs": [],
   "source": []
  },
  {
   "cell_type": "code",
   "execution_count": null,
   "metadata": {},
   "outputs": [],
   "source": []
  },
  {
   "cell_type": "code",
   "execution_count": null,
   "metadata": {},
   "outputs": [],
   "source": []
  }
 ],
 "metadata": {
  "kernelspec": {
   "display_name": "Python 3",
   "language": "python",
   "name": "python3"
  },
  "language_info": {
   "codemirror_mode": {
    "name": "ipython",
    "version": 3
   },
   "file_extension": ".py",
   "mimetype": "text/x-python",
   "name": "python",
   "nbconvert_exporter": "python",
   "pygments_lexer": "ipython3",
   "version": "3.7.9"
  }
 },
 "nbformat": 4,
 "nbformat_minor": 4
}
